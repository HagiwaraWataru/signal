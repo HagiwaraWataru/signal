{
 "cells": [
  {
   "cell_type": "code",
   "execution_count": 1,
   "metadata": {},
   "outputs": [],
   "source": [
    "import numpy as np\n",
    "import pandas as pd\n",
    "import matplotlib.pyplot as plt\n",
    "import itertools"
   ]
  },
  {
   "cell_type": "code",
   "execution_count": 2,
   "metadata": {},
   "outputs": [],
   "source": [
    "fs = 100\n",
    "sec = 10\n",
    "t = np.arange(0.0, sec, 1/fs)"
   ]
  },
  {
   "cell_type": "code",
   "execution_count": 3,
   "metadata": {},
   "outputs": [],
   "source": [
    "# rever1\n",
    "name_1 = 'rever1'\n",
    "A_1 = np.arange(-1.0, 1.1, 0.5)\n",
    "t1_1 = np.array([1.0])\n",
    "dt1_1 = np.array([0.3])\n",
    "t2_1 =  np.array([6.0])\n",
    "dt2_1 = np.array([0.8])\n",
    "\n",
    "# rever2\n",
    "name_2 = 'rever2'\n",
    "A_2 = np.arange(-1.0, 0.0, 0.3)\n",
    "t1_2 = np.array([2.0])\n",
    "dt1_2 = np.array([0.5])\n",
    "t2_2 = np.array([7.0])\n",
    "dt2_2 = np.array([0.5])\n",
    "\n",
    "# rever3\n",
    "name_3 = 'rever3'\n",
    "A_3 = np.array([1.0])\n",
    "t1_3 = np.array([5.0])\n",
    "dt1_3 = np.array([0.1])\n",
    "t2_3 = np.array([8.0])\n",
    "dt2_3 = np.array([0.1])\n",
    "\n",
    "# rever4\n",
    "name_4 = 'rever4'\n",
    "A_4 = np.array([0.7])\n",
    "t1_4 = np.array([1.0])\n",
    "dt1_4 = np.array([3.0])\n",
    "t2_4 = np.array([6.0])\n",
    "dt2_4 = np.array([3.0])"
   ]
  },
  {
   "cell_type": "code",
   "execution_count": 4,
   "metadata": {},
   "outputs": [],
   "source": [
    "def make_wave(A, t1, dt1, t2, dt2):\n",
    "    wave = np.array([0.0 for i in range(len(t))])\n",
    "    for i in range(len(t)):\n",
    "        if t1<=t[i]<t1+dt1:\n",
    "            wave[i] = A / dt1 * (t[i] - t1)\n",
    "        elif t1+dt1<=t[i]<t2:\n",
    "            wave[i] = A\n",
    "        elif t2<=t[i]<t2+dt2:\n",
    "            wave[i] = A - A / dt2 * (t[i] - t2)\n",
    "    return wave"
   ]
  },
  {
   "cell_type": "code",
   "execution_count": 5,
   "metadata": {},
   "outputs": [],
   "source": [
    "def make_df(name, A, t1, dt1, t2, dt2):\n",
    "    count =0\n",
    "    for i, j, k, l, m in itertools.product(A, t1, dt1, t2, dt2):\n",
    "        count += 1\n",
    "        new_wave = make_wave(i, j, k, l, m)\n",
    "        df = pd.DataFrame(new_wave, columns=[''+name+'_A_'+str('{:.1f}'.format(i))+'_t1_'+str('{:.1f}'.format(j))+'_dt1_'+str('{:.1f}'.format(k))+'_t2_'+str('{:.1f}'.format(l))+'_dt2_'+str('{:.1f}'.format(m))+''])\n",
    "        if count ==1:\n",
    "            df_single = df\n",
    "        else:\n",
    "            df_single = pd.concat([df_single, df], axis=1)\n",
    "    return df_single"
   ]
  },
  {
   "cell_type": "code",
   "execution_count": 6,
   "metadata": {},
   "outputs": [],
   "source": [
    "rever1 = make_df(name_1, A_1, t1_1, dt1_1, t2_1, dt2_1)\n",
    "rever2 = make_df(name_2, A_2, t1_2, dt1_2, t2_2, dt2_2)\n",
    "rever3 = make_df(name_3, A_3, t1_3, dt1_3, t2_3, dt2_3)\n",
    "rever4 = make_df(name_4, A_4, t1_4, dt1_4, t2_4, dt2_4)"
   ]
  },
  {
   "cell_type": "code",
   "execution_count": 7,
   "metadata": {},
   "outputs": [],
   "source": [
    "for (i, j), (k, l), (m, n), (o, p) in itertools.product(rever1.items(), rever2.items(), rever3.items(), rever4.items()):\n",
    "    df = pd.concat([j, l, n, p],axis=1)\n",
    "    df.to_csv('signal_csv/'+i+'+'+k+'+'+m+'+'+o+'.csv')"
   ]
  },
  {
   "cell_type": "code",
   "execution_count": null,
   "metadata": {},
   "outputs": [],
   "source": []
  }
 ],
 "metadata": {
  "kernelspec": {
   "display_name": "Python 3",
   "language": "python",
   "name": "python3"
  },
  "language_info": {
   "codemirror_mode": {
    "name": "ipython",
    "version": 3
   },
   "file_extension": ".py",
   "mimetype": "text/x-python",
   "name": "python",
   "nbconvert_exporter": "python",
   "pygments_lexer": "ipython3",
   "version": "3.7.6"
  }
 },
 "nbformat": 4,
 "nbformat_minor": 4
}
